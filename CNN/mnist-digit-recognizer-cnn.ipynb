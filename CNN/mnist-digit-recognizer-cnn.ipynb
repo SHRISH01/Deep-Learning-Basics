{
 "cells": [
  {
   "cell_type": "code",
   "execution_count": 1,
   "id": "8e85b88f",
   "metadata": {
    "execution": {
     "iopub.execute_input": "2024-12-02T14:48:14.393220Z",
     "iopub.status.busy": "2024-12-02T14:48:14.392428Z",
     "iopub.status.idle": "2024-12-02T14:48:14.396561Z",
     "shell.execute_reply": "2024-12-02T14:48:14.395967Z"
    },
    "papermill": {
     "duration": 0.013939,
     "end_time": "2024-12-02T14:48:14.398128",
     "exception": false,
     "start_time": "2024-12-02T14:48:14.384189",
     "status": "completed"
    },
    "tags": []
   },
   "outputs": [],
   "source": [
    "# MNIST Digit Recognizer Using CNN"
   ]
  },
  {
   "cell_type": "markdown",
   "id": "f39db40d",
   "metadata": {
    "papermill": {
     "duration": 0.005438,
     "end_time": "2024-12-02T14:48:14.410537",
     "exception": false,
     "start_time": "2024-12-02T14:48:14.405099",
     "status": "completed"
    },
    "tags": []
   },
   "source": [
    "**Importing the necessary libraries**"
   ]
  },
  {
   "cell_type": "code",
   "execution_count": 2,
   "id": "48299685",
   "metadata": {
    "execution": {
     "iopub.execute_input": "2024-12-02T14:48:14.422605Z",
     "iopub.status.busy": "2024-12-02T14:48:14.422360Z",
     "iopub.status.idle": "2024-12-02T14:48:27.066125Z",
     "shell.execute_reply": "2024-12-02T14:48:27.065469Z"
    },
    "papermill": {
     "duration": 12.652053,
     "end_time": "2024-12-02T14:48:27.068040",
     "exception": false,
     "start_time": "2024-12-02T14:48:14.415987",
     "status": "completed"
    },
    "tags": []
   },
   "outputs": [],
   "source": [
    "import pandas as pd\n",
    "import numpy as np\n",
    "import seaborn as sns\n",
    "import matplotlib.pyplot as plt\n",
    "%matplotlib inline\n",
    "from matplotlib.animation import FuncAnimation\n",
    "\n",
    "from tensorflow.keras.utils import to_categorical\n",
    "from sklearn.model_selection import train_test_split\n",
    "from sklearn.metrics import confusion_matrix\n",
    "import itertools\n",
    "\n",
    "from keras.models import Sequential\n",
    "from keras.layers import Dense, Dropout, Flatten, Conv2D, MaxPool2D\n",
    "from keras.optimizers import RMSprop\n",
    "from tensorflow.keras.preprocessing.image import ImageDataGenerator\n",
    "from keras.callbacks import ReduceLROnPlateau\n",
    "\n",
    "\n",
    "sns.set(style='white', context='notebook', palette='deep')"
   ]
  },
  {
   "cell_type": "code",
   "execution_count": 3,
   "id": "eb9fc378",
   "metadata": {
    "execution": {
     "iopub.execute_input": "2024-12-02T14:48:27.080948Z",
     "iopub.status.busy": "2024-12-02T14:48:27.080478Z",
     "iopub.status.idle": "2024-12-02T14:48:31.323772Z",
     "shell.execute_reply": "2024-12-02T14:48:31.322776Z"
    },
    "papermill": {
     "duration": 4.251904,
     "end_time": "2024-12-02T14:48:31.325908",
     "exception": false,
     "start_time": "2024-12-02T14:48:27.074004",
     "status": "completed"
    },
    "tags": []
   },
   "outputs": [],
   "source": [
    "train = pd.read_csv(\"/kaggle/input/digit-recognizer/train.csv\")\n",
    "test = pd.read_csv(\"/kaggle/input/digit-recognizer/test.csv\")"
   ]
  },
  {
   "cell_type": "code",
   "execution_count": 4,
   "id": "98ba46ee",
   "metadata": {
    "execution": {
     "iopub.execute_input": "2024-12-02T14:48:31.339034Z",
     "iopub.status.busy": "2024-12-02T14:48:31.338735Z",
     "iopub.status.idle": "2024-12-02T14:48:31.344792Z",
     "shell.execute_reply": "2024-12-02T14:48:31.343971Z"
    },
    "papermill": {
     "duration": 0.014451,
     "end_time": "2024-12-02T14:48:31.346306",
     "exception": false,
     "start_time": "2024-12-02T14:48:31.331855",
     "status": "completed"
    },
    "tags": []
   },
   "outputs": [
    {
     "data": {
      "text/plain": [
       "(42000, 785)"
      ]
     },
     "execution_count": 4,
     "metadata": {},
     "output_type": "execute_result"
    }
   ],
   "source": [
    "train.shape"
   ]
  },
  {
   "cell_type": "code",
   "execution_count": 5,
   "id": "bb1ee0a3",
   "metadata": {
    "execution": {
     "iopub.execute_input": "2024-12-02T14:48:31.358795Z",
     "iopub.status.busy": "2024-12-02T14:48:31.358524Z",
     "iopub.status.idle": "2024-12-02T14:48:31.363074Z",
     "shell.execute_reply": "2024-12-02T14:48:31.362495Z"
    },
    "papermill": {
     "duration": 0.012551,
     "end_time": "2024-12-02T14:48:31.364769",
     "exception": false,
     "start_time": "2024-12-02T14:48:31.352218",
     "status": "completed"
    },
    "tags": []
   },
   "outputs": [
    {
     "data": {
      "text/plain": [
       "(28000, 784)"
      ]
     },
     "execution_count": 5,
     "metadata": {},
     "output_type": "execute_result"
    }
   ],
   "source": [
    "test.shape"
   ]
  },
  {
   "cell_type": "code",
   "execution_count": 6,
   "id": "b7724d28",
   "metadata": {
    "execution": {
     "iopub.execute_input": "2024-12-02T14:48:31.376918Z",
     "iopub.status.busy": "2024-12-02T14:48:31.376668Z",
     "iopub.status.idle": "2024-12-02T14:48:31.395787Z",
     "shell.execute_reply": "2024-12-02T14:48:31.395139Z"
    },
    "papermill": {
     "duration": 0.027737,
     "end_time": "2024-12-02T14:48:31.398221",
     "exception": false,
     "start_time": "2024-12-02T14:48:31.370484",
     "status": "completed"
    },
    "tags": []
   },
   "outputs": [
    {
     "data": {
      "text/html": [
       "<div>\n",
       "<style scoped>\n",
       "    .dataframe tbody tr th:only-of-type {\n",
       "        vertical-align: middle;\n",
       "    }\n",
       "\n",
       "    .dataframe tbody tr th {\n",
       "        vertical-align: top;\n",
       "    }\n",
       "\n",
       "    .dataframe thead th {\n",
       "        text-align: right;\n",
       "    }\n",
       "</style>\n",
       "<table border=\"1\" class=\"dataframe\">\n",
       "  <thead>\n",
       "    <tr style=\"text-align: right;\">\n",
       "      <th></th>\n",
       "      <th>pixel0</th>\n",
       "      <th>pixel1</th>\n",
       "      <th>pixel2</th>\n",
       "      <th>pixel3</th>\n",
       "      <th>pixel4</th>\n",
       "      <th>pixel5</th>\n",
       "      <th>pixel6</th>\n",
       "      <th>pixel7</th>\n",
       "      <th>pixel8</th>\n",
       "      <th>pixel9</th>\n",
       "      <th>...</th>\n",
       "      <th>pixel774</th>\n",
       "      <th>pixel775</th>\n",
       "      <th>pixel776</th>\n",
       "      <th>pixel777</th>\n",
       "      <th>pixel778</th>\n",
       "      <th>pixel779</th>\n",
       "      <th>pixel780</th>\n",
       "      <th>pixel781</th>\n",
       "      <th>pixel782</th>\n",
       "      <th>pixel783</th>\n",
       "    </tr>\n",
       "  </thead>\n",
       "  <tbody>\n",
       "    <tr>\n",
       "      <th>0</th>\n",
       "      <td>0</td>\n",
       "      <td>0</td>\n",
       "      <td>0</td>\n",
       "      <td>0</td>\n",
       "      <td>0</td>\n",
       "      <td>0</td>\n",
       "      <td>0</td>\n",
       "      <td>0</td>\n",
       "      <td>0</td>\n",
       "      <td>0</td>\n",
       "      <td>...</td>\n",
       "      <td>0</td>\n",
       "      <td>0</td>\n",
       "      <td>0</td>\n",
       "      <td>0</td>\n",
       "      <td>0</td>\n",
       "      <td>0</td>\n",
       "      <td>0</td>\n",
       "      <td>0</td>\n",
       "      <td>0</td>\n",
       "      <td>0</td>\n",
       "    </tr>\n",
       "    <tr>\n",
       "      <th>1</th>\n",
       "      <td>0</td>\n",
       "      <td>0</td>\n",
       "      <td>0</td>\n",
       "      <td>0</td>\n",
       "      <td>0</td>\n",
       "      <td>0</td>\n",
       "      <td>0</td>\n",
       "      <td>0</td>\n",
       "      <td>0</td>\n",
       "      <td>0</td>\n",
       "      <td>...</td>\n",
       "      <td>0</td>\n",
       "      <td>0</td>\n",
       "      <td>0</td>\n",
       "      <td>0</td>\n",
       "      <td>0</td>\n",
       "      <td>0</td>\n",
       "      <td>0</td>\n",
       "      <td>0</td>\n",
       "      <td>0</td>\n",
       "      <td>0</td>\n",
       "    </tr>\n",
       "    <tr>\n",
       "      <th>2</th>\n",
       "      <td>0</td>\n",
       "      <td>0</td>\n",
       "      <td>0</td>\n",
       "      <td>0</td>\n",
       "      <td>0</td>\n",
       "      <td>0</td>\n",
       "      <td>0</td>\n",
       "      <td>0</td>\n",
       "      <td>0</td>\n",
       "      <td>0</td>\n",
       "      <td>...</td>\n",
       "      <td>0</td>\n",
       "      <td>0</td>\n",
       "      <td>0</td>\n",
       "      <td>0</td>\n",
       "      <td>0</td>\n",
       "      <td>0</td>\n",
       "      <td>0</td>\n",
       "      <td>0</td>\n",
       "      <td>0</td>\n",
       "      <td>0</td>\n",
       "    </tr>\n",
       "    <tr>\n",
       "      <th>3</th>\n",
       "      <td>0</td>\n",
       "      <td>0</td>\n",
       "      <td>0</td>\n",
       "      <td>0</td>\n",
       "      <td>0</td>\n",
       "      <td>0</td>\n",
       "      <td>0</td>\n",
       "      <td>0</td>\n",
       "      <td>0</td>\n",
       "      <td>0</td>\n",
       "      <td>...</td>\n",
       "      <td>0</td>\n",
       "      <td>0</td>\n",
       "      <td>0</td>\n",
       "      <td>0</td>\n",
       "      <td>0</td>\n",
       "      <td>0</td>\n",
       "      <td>0</td>\n",
       "      <td>0</td>\n",
       "      <td>0</td>\n",
       "      <td>0</td>\n",
       "    </tr>\n",
       "    <tr>\n",
       "      <th>4</th>\n",
       "      <td>0</td>\n",
       "      <td>0</td>\n",
       "      <td>0</td>\n",
       "      <td>0</td>\n",
       "      <td>0</td>\n",
       "      <td>0</td>\n",
       "      <td>0</td>\n",
       "      <td>0</td>\n",
       "      <td>0</td>\n",
       "      <td>0</td>\n",
       "      <td>...</td>\n",
       "      <td>0</td>\n",
       "      <td>0</td>\n",
       "      <td>0</td>\n",
       "      <td>0</td>\n",
       "      <td>0</td>\n",
       "      <td>0</td>\n",
       "      <td>0</td>\n",
       "      <td>0</td>\n",
       "      <td>0</td>\n",
       "      <td>0</td>\n",
       "    </tr>\n",
       "  </tbody>\n",
       "</table>\n",
       "<p>5 rows × 784 columns</p>\n",
       "</div>"
      ],
      "text/plain": [
       "   pixel0  pixel1  pixel2  pixel3  pixel4  pixel5  pixel6  pixel7  pixel8  \\\n",
       "0       0       0       0       0       0       0       0       0       0   \n",
       "1       0       0       0       0       0       0       0       0       0   \n",
       "2       0       0       0       0       0       0       0       0       0   \n",
       "3       0       0       0       0       0       0       0       0       0   \n",
       "4       0       0       0       0       0       0       0       0       0   \n",
       "\n",
       "   pixel9  ...  pixel774  pixel775  pixel776  pixel777  pixel778  pixel779  \\\n",
       "0       0  ...         0         0         0         0         0         0   \n",
       "1       0  ...         0         0         0         0         0         0   \n",
       "2       0  ...         0         0         0         0         0         0   \n",
       "3       0  ...         0         0         0         0         0         0   \n",
       "4       0  ...         0         0         0         0         0         0   \n",
       "\n",
       "   pixel780  pixel781  pixel782  pixel783  \n",
       "0         0         0         0         0  \n",
       "1         0         0         0         0  \n",
       "2         0         0         0         0  \n",
       "3         0         0         0         0  \n",
       "4         0         0         0         0  \n",
       "\n",
       "[5 rows x 784 columns]"
      ]
     },
     "execution_count": 6,
     "metadata": {},
     "output_type": "execute_result"
    }
   ],
   "source": [
    "test.head()"
   ]
  },
  {
   "cell_type": "code",
   "execution_count": 7,
   "id": "3a741cbd",
   "metadata": {
    "execution": {
     "iopub.execute_input": "2024-12-02T14:48:31.411092Z",
     "iopub.status.busy": "2024-12-02T14:48:31.410842Z",
     "iopub.status.idle": "2024-12-02T14:48:31.414492Z",
     "shell.execute_reply": "2024-12-02T14:48:31.413692Z"
    },
    "papermill": {
     "duration": 0.011711,
     "end_time": "2024-12-02T14:48:31.416033",
     "exception": false,
     "start_time": "2024-12-02T14:48:31.404322",
     "status": "completed"
    },
    "tags": []
   },
   "outputs": [],
   "source": [
    "Y_train = train[\"label\"]"
   ]
  },
  {
   "cell_type": "code",
   "execution_count": 8,
   "id": "b0b4ac2c",
   "metadata": {
    "execution": {
     "iopub.execute_input": "2024-12-02T14:48:31.428806Z",
     "iopub.status.busy": "2024-12-02T14:48:31.428561Z",
     "iopub.status.idle": "2024-12-02T14:48:31.511132Z",
     "shell.execute_reply": "2024-12-02T14:48:31.510095Z"
    },
    "papermill": {
     "duration": 0.091172,
     "end_time": "2024-12-02T14:48:31.513239",
     "exception": false,
     "start_time": "2024-12-02T14:48:31.422067",
     "status": "completed"
    },
    "tags": []
   },
   "outputs": [],
   "source": [
    "X_train = train.drop(labels = [\"label\"],axis = 1) \n",
    "del train"
   ]
  },
  {
   "cell_type": "code",
   "execution_count": 9,
   "id": "5c71a07a",
   "metadata": {
    "execution": {
     "iopub.execute_input": "2024-12-02T14:48:31.526770Z",
     "iopub.status.busy": "2024-12-02T14:48:31.526476Z",
     "iopub.status.idle": "2024-12-02T14:48:31.859253Z",
     "shell.execute_reply": "2024-12-02T14:48:31.858535Z"
    },
    "papermill": {
     "duration": 0.341521,
     "end_time": "2024-12-02T14:48:31.861118",
     "exception": false,
     "start_time": "2024-12-02T14:48:31.519597",
     "status": "completed"
    },
    "tags": []
   },
   "outputs": [
    {
     "name": "stderr",
     "output_type": "stream",
     "text": [
      "/tmp/ipykernel_23/2672232456.py:2: MatplotlibDeprecationWarning: The get_cmap function was deprecated in Matplotlib 3.7 and will be removed two minor releases later. Use ``matplotlib.colormaps[name]`` or ``matplotlib.colormaps.get_cmap(obj)`` instead.\n",
      "  cmap = plt.cm.get_cmap('plasma')\n"
     ]
    },
    {
     "data": {
      "image/png": "[encoded data removed]",
      "text/plain": [
       "<Figure size 640x480 with 1 Axes>"
      ]
     },
     "metadata": {},
     "output_type": "display_data"
    }
   ],
   "source": [
    "unique_values, counts = np.unique(Y_train, return_counts=True)\n",
    "cmap = plt.cm.get_cmap('plasma')\n",
    "\n",
    "plt.bar(unique_values, counts, color=cmap(np.linspace(0, 1, len(unique_values))))\n",
    "plt.xlabel('Value')\n",
    "plt.ylabel('Frequency')\n",
    "plt.title('Distribution of Values in y_train')\n",
    "plt.xticks(unique_values)\n",
    "plt.grid(axis='y', linestyle='--', alpha=0.7)\n",
    "\n",
    "plt.show()"
   ]
  },
  {
   "cell_type": "code",
   "execution_count": 10,
   "id": "6850d435",
   "metadata": {
    "execution": {
     "iopub.execute_input": "2024-12-02T14:48:31.875221Z",
     "iopub.status.busy": "2024-12-02T14:48:31.874961Z",
     "iopub.status.idle": "2024-12-02T14:48:31.878415Z",
     "shell.execute_reply": "2024-12-02T14:48:31.877624Z"
    },
    "papermill": {
     "duration": 0.012105,
     "end_time": "2024-12-02T14:48:31.880008",
     "exception": false,
     "start_time": "2024-12-02T14:48:31.867903",
     "status": "completed"
    },
    "tags": []
   },
   "outputs": [],
   "source": [
    "# It's a blanced Dataset"
   ]
  },
  {
   "cell_type": "markdown",
   "id": "c5da7b93",
   "metadata": {
    "papermill": {
     "duration": 0.00612,
     "end_time": "2024-12-02T14:48:31.892608",
     "exception": false,
     "start_time": "2024-12-02T14:48:31.886488",
     "status": "completed"
    },
    "tags": []
   },
   "source": [
    "# Checking for missing Data Points"
   ]
  },
  {
   "cell_type": "markdown",
   "id": "707b8a3a",
   "metadata": {
    "papermill": {
     "duration": 0.006225,
     "end_time": "2024-12-02T14:48:31.905206",
     "exception": false,
     "start_time": "2024-12-02T14:48:31.898981",
     "status": "completed"
    },
    "tags": []
   },
   "source": [
    "**Data Preprocessing**"
   ]
  },
  {
   "cell_type": "code",
   "execution_count": 11,
   "id": "f23e90e0",
   "metadata": {
    "execution": {
     "iopub.execute_input": "2024-12-02T14:48:31.918627Z",
     "iopub.status.busy": "2024-12-02T14:48:31.918365Z",
     "iopub.status.idle": "2024-12-02T14:48:31.939861Z",
     "shell.execute_reply": "2024-12-02T14:48:31.939046Z"
    },
    "papermill": {
     "duration": 0.03019,
     "end_time": "2024-12-02T14:48:31.941696",
     "exception": false,
     "start_time": "2024-12-02T14:48:31.911506",
     "status": "completed"
    },
    "tags": []
   },
   "outputs": [
    {
     "data": {
      "text/plain": [
       "count       784\n",
       "unique        1\n",
       "top       False\n",
       "freq        784\n",
       "dtype: object"
      ]
     },
     "execution_count": 11,
     "metadata": {},
     "output_type": "execute_result"
    }
   ],
   "source": [
    "# Check the data\n",
    "X_train.isnull().any().describe()"
   ]
  },
  {
   "cell_type": "code",
   "execution_count": 12,
   "id": "1754abaa",
   "metadata": {
    "execution": {
     "iopub.execute_input": "2024-12-02T14:48:31.955737Z",
     "iopub.status.busy": "2024-12-02T14:48:31.955484Z",
     "iopub.status.idle": "2024-12-02T14:48:31.966969Z",
     "shell.execute_reply": "2024-12-02T14:48:31.966098Z"
    },
    "papermill": {
     "duration": 0.020059,
     "end_time": "2024-12-02T14:48:31.968624",
     "exception": false,
     "start_time": "2024-12-02T14:48:31.948565",
     "status": "completed"
    },
    "tags": []
   },
   "outputs": [
    {
     "data": {
      "text/plain": [
       "count       784\n",
       "unique        1\n",
       "top       False\n",
       "freq        784\n",
       "dtype: object"
      ]
     },
     "execution_count": 12,
     "metadata": {},
     "output_type": "execute_result"
    }
   ],
   "source": [
    "test.isnull().any().describe()"
   ]
  },
  {
   "cell_type": "markdown",
   "id": "21238239",
   "metadata": {
    "papermill": {
     "duration": 0.006389,
     "end_time": "2024-12-02T14:48:31.981589",
     "exception": false,
     "start_time": "2024-12-02T14:48:31.975200",
     "status": "completed"
    },
    "tags": []
   },
   "source": [
    "# Normalization"
   ]
  },
  {
   "cell_type": "code",
   "execution_count": 13,
   "id": "46bc096a",
   "metadata": {
    "execution": {
     "iopub.execute_input": "2024-12-02T14:48:31.995731Z",
     "iopub.status.busy": "2024-12-02T14:48:31.995232Z",
     "iopub.status.idle": "2024-12-02T14:48:32.085545Z",
     "shell.execute_reply": "2024-12-02T14:48:32.084513Z"
    },
    "papermill": {
     "duration": 0.099717,
     "end_time": "2024-12-02T14:48:32.087735",
     "exception": false,
     "start_time": "2024-12-02T14:48:31.988018",
     "status": "completed"
    },
    "tags": []
   },
   "outputs": [],
   "source": [
    "# Normalize the data\n",
    "X_train = X_train / 255.0\n",
    "test = test / 255.0"
   ]
  },
  {
   "cell_type": "markdown",
   "id": "fb283d20",
   "metadata": {
    "papermill": {
     "duration": 0.007148,
     "end_time": "2024-12-02T14:48:32.101934",
     "exception": false,
     "start_time": "2024-12-02T14:48:32.094786",
     "status": "completed"
    },
    "tags": []
   },
   "source": [
    "# Reshape"
   ]
  },
  {
   "cell_type": "code",
   "execution_count": 14,
   "id": "3823d3ae",
   "metadata": {
    "execution": {
     "iopub.execute_input": "2024-12-02T14:48:32.116130Z",
     "iopub.status.busy": "2024-12-02T14:48:32.115830Z",
     "iopub.status.idle": "2024-12-02T14:48:32.120105Z",
     "shell.execute_reply": "2024-12-02T14:48:32.119228Z"
    },
    "papermill": {
     "duration": 0.013368,
     "end_time": "2024-12-02T14:48:32.121786",
     "exception": false,
     "start_time": "2024-12-02T14:48:32.108418",
     "status": "completed"
    },
    "tags": []
   },
   "outputs": [],
   "source": [
    "# Reshape image in 3 dimensions (height = 28px, width = 28px , canal = 1)\n",
    "X_train = X_train.values.reshape(-1,28,28,1)\n",
    "test = test.values.reshape(-1,28,28,1)\n"
   ]
  },
  {
   "cell_type": "markdown",
   "id": "b7ca36d4",
   "metadata": {
    "papermill": {
     "duration": 0.006397,
     "end_time": "2024-12-02T14:48:32.134618",
     "exception": false,
     "start_time": "2024-12-02T14:48:32.128221",
     "status": "completed"
    },
    "tags": []
   },
   "source": [
    "Train and test images (28px x 28px) has been stock into pandas.Dataframe as 1D vectors of 784 values. We reshape all data to 28x28x1 3D matrices.\n",
    "\n",
    "Keras requires an extra dimension in the end which correspond to channels. MNIST images are gray scaled so it use only one channel. For RGB images, there is 3 channels, we would have reshaped 784px vectors to 28x28x3 3D matrices."
   ]
  },
  {
   "cell_type": "markdown",
   "id": "b4f8a2de",
   "metadata": {
    "papermill": {
     "duration": 0.006241,
     "end_time": "2024-12-02T14:48:32.147421",
     "exception": false,
     "start_time": "2024-12-02T14:48:32.141180",
     "status": "completed"
    },
    "tags": []
   },
   "source": [
    "# Label Encoding\n"
   ]
  },
  {
   "cell_type": "code",
   "execution_count": 15,
   "id": "9e6cb74f",
   "metadata": {
    "execution": {
     "iopub.execute_input": "2024-12-02T14:48:32.161410Z",
     "iopub.status.busy": "2024-12-02T14:48:32.161109Z",
     "iopub.status.idle": "2024-12-02T14:48:32.166867Z",
     "shell.execute_reply": "2024-12-02T14:48:32.166060Z"
    },
    "papermill": {
     "duration": 0.014737,
     "end_time": "2024-12-02T14:48:32.168542",
     "exception": false,
     "start_time": "2024-12-02T14:48:32.153805",
     "status": "completed"
    },
    "tags": []
   },
   "outputs": [],
   "source": [
    "# Encode labels to one hot vectors (ex : 2 -> [0,0,1,0,0,0,0,0,0,0])\n",
    "Y_train = to_categorical(Y_train, num_classes = 10)"
   ]
  },
  {
   "cell_type": "markdown",
   "id": "b95f7bc6",
   "metadata": {
    "papermill": {
     "duration": 0.00633,
     "end_time": "2024-12-02T14:48:32.181248",
     "exception": false,
     "start_time": "2024-12-02T14:48:32.174918",
     "status": "completed"
    },
    "tags": []
   },
   "source": [
    "# Splitting the Data"
   ]
  },
  {
   "cell_type": "code",
   "execution_count": 16,
   "id": "63086728",
   "metadata": {
    "execution": {
     "iopub.execute_input": "2024-12-02T14:48:32.194947Z",
     "iopub.status.busy": "2024-12-02T14:48:32.194729Z",
     "iopub.status.idle": "2024-12-02T14:48:32.198101Z",
     "shell.execute_reply": "2024-12-02T14:48:32.197411Z"
    },
    "papermill": {
     "duration": 0.011982,
     "end_time": "2024-12-02T14:48:32.199685",
     "exception": false,
     "start_time": "2024-12-02T14:48:32.187703",
     "status": "completed"
    },
    "tags": []
   },
   "outputs": [],
   "source": [
    "random_seed = 2"
   ]
  },
  {
   "cell_type": "code",
   "execution_count": 17,
   "id": "f9152462",
   "metadata": {
    "execution": {
     "iopub.execute_input": "2024-12-02T14:48:32.213668Z",
     "iopub.status.busy": "2024-12-02T14:48:32.213439Z",
     "iopub.status.idle": "2024-12-02T14:48:32.596870Z",
     "shell.execute_reply": "2024-12-02T14:48:32.596133Z"
    },
    "papermill": {
     "duration": 0.392596,
     "end_time": "2024-12-02T14:48:32.598828",
     "exception": false,
     "start_time": "2024-12-02T14:48:32.206232",
     "status": "completed"
    },
    "tags": []
   },
   "outputs": [],
   "source": [
    "# Split the train and the validation set for the fitting\n",
    "X_train, X_val, Y_train, Y_val = train_test_split(X_train, Y_train, test_size = 0.1, random_state=random_seed)"
   ]
  },
  {
   "cell_type": "code",
   "execution_count": 18,
   "id": "1384d101",
   "metadata": {
    "execution": {
     "iopub.execute_input": "2024-12-02T14:48:32.614024Z",
     "iopub.status.busy": "2024-12-02T14:48:32.613776Z",
     "iopub.status.idle": "2024-12-02T14:48:32.903128Z",
     "shell.execute_reply": "2024-12-02T14:48:32.902378Z"
    },
    "papermill": {
     "duration": 0.298444,
     "end_time": "2024-12-02T14:48:32.904811",
     "exception": false,
     "start_time": "2024-12-02T14:48:32.606367",
     "status": "completed"
    },
    "tags": []
   },
   "outputs": [
    {
     "data": {
      "text/plain": [
       "<matplotlib.image.AxesImage at 0x7e9e189ba260>"
      ]
     },
     "execution_count": 18,
     "metadata": {},
     "output_type": "execute_result"
    },
    {
     "data": {
      "image/png": "[encoded data removed]",
      "text/plain": [
       "<Figure size 640x480 with 1 Axes>"
      ]
     },
     "metadata": {},
     "output_type": "display_data"
    }
   ],
   "source": [
    "plt.imshow(X_train[0])"
   ]
  },
  {
   "cell_type": "code",
   "execution_count": 19,
   "id": "97cb0fd0",
   "metadata": {
    "execution": {
     "iopub.execute_input": "2024-12-02T14:48:32.919222Z",
     "iopub.status.busy": "2024-12-02T14:48:32.918970Z",
     "iopub.status.idle": "2024-12-02T14:48:32.924248Z",
     "shell.execute_reply": "2024-12-02T14:48:32.923464Z"
    },
    "papermill": {
     "duration": 0.014209,
     "end_time": "2024-12-02T14:48:32.925878",
     "exception": false,
     "start_time": "2024-12-02T14:48:32.911669",
     "status": "completed"
    },
    "tags": []
   },
   "outputs": [
    {
     "data": {
      "text/plain": [
       "array([0., 0., 0., 0., 0., 0., 0., 0., 1., 0.])"
      ]
     },
     "execution_count": 19,
     "metadata": {},
     "output_type": "execute_result"
    }
   ],
   "source": [
    "Y_train[0]"
   ]
  },
  {
   "cell_type": "markdown",
   "id": "27e88c59",
   "metadata": {
    "papermill": {
     "duration": 0.006406,
     "end_time": "2024-12-02T14:48:32.939030",
     "exception": false,
     "start_time": "2024-12-02T14:48:32.932624",
     "status": "completed"
    },
    "tags": []
   },
   "source": [
    "# Convolutional Neural Network"
   ]
  },
  {
   "cell_type": "code",
   "execution_count": 20,
   "id": "6da91cc4",
   "metadata": {
    "execution": {
     "iopub.execute_input": "2024-12-02T14:48:32.953296Z",
     "iopub.status.busy": "2024-12-02T14:48:32.953061Z",
     "iopub.status.idle": "2024-12-02T14:48:33.914821Z",
     "shell.execute_reply": "2024-12-02T14:48:33.913911Z"
    },
    "papermill": {
     "duration": 0.970869,
     "end_time": "2024-12-02T14:48:33.916627",
     "exception": false,
     "start_time": "2024-12-02T14:48:32.945758",
     "status": "completed"
    },
    "tags": []
   },
   "outputs": [
    {
     "name": "stderr",
     "output_type": "stream",
     "text": [
      "/opt/conda/lib/python3.10/site-packages/keras/src/layers/convolutional/base_conv.py:107: UserWarning: Do not pass an `input_shape`/`input_dim` argument to a layer. When using Sequential models, prefer using an `Input(shape)` object as the first layer in the model instead.\n",
      "  super().__init__(activity_regularizer=activity_regularizer, **kwargs)\n"
     ]
    }
   ],
   "source": [
    "model = Sequential()\n",
    "\n",
    "model.add(Conv2D(filters = 32, kernel_size = (5,5),padding = 'Same', \n",
    "                 activation ='relu', input_shape = (28,28,1)))\n",
    "model.add(Conv2D(filters = 32, kernel_size = (5,5),padding = 'Same', \n",
    "                 activation ='relu'))\n",
    "model.add(MaxPool2D(pool_size=(2,2)))\n",
    "model.add(Dropout(0.25))\n",
    "\n",
    "\n",
    "model.add(Conv2D(filters = 64, kernel_size = (3,3),padding = 'Same', \n",
    "                 activation ='relu'))\n",
    "model.add(Conv2D(filters = 64, kernel_size = (3,3),padding = 'Same', \n",
    "                 activation ='relu'))\n",
    "model.add(MaxPool2D(pool_size=(2,2), strides=(2,2)))\n",
    "model.add(Dropout(0.25))\n",
    "\n",
    "\n",
    "model.add(Flatten())\n",
    "model.add(Dense(256, activation = \"relu\"))\n",
    "model.add(Dropout(0.5))\n",
    "model.add(Dense(10, activation = \"softmax\"))"
   ]
  },
  {
   "cell_type": "code",
   "execution_count": 21,
   "id": "174ac963",
   "metadata": {
    "execution": {
     "iopub.execute_input": "2024-12-02T14:48:33.931902Z",
     "iopub.status.busy": "2024-12-02T14:48:33.931627Z",
     "iopub.status.idle": "2024-12-02T14:48:33.941069Z",
     "shell.execute_reply": "2024-12-02T14:48:33.940414Z"
    },
    "papermill": {
     "duration": 0.018926,
     "end_time": "2024-12-02T14:48:33.942860",
     "exception": false,
     "start_time": "2024-12-02T14:48:33.923934",
     "status": "completed"
    },
    "tags": []
   },
   "outputs": [
    {
     "name": "stderr",
     "output_type": "stream",
     "text": [
      "/opt/conda/lib/python3.10/site-packages/keras/src/optimizers/base_optimizer.py:33: UserWarning: Argument `decay` is no longer supported and will be ignored.\n",
      "  warnings.warn(\n"
     ]
    }
   ],
   "source": [
    "# Define the optimizer\n",
    "optimizer = RMSprop(learning_rate=0.001, rho=0.9, epsilon=1e-08, decay=0.0)"
   ]
  },
  {
   "cell_type": "code",
   "execution_count": 22,
   "id": "b380a426",
   "metadata": {
    "execution": {
     "iopub.execute_input": "2024-12-02T14:48:33.957442Z",
     "iopub.status.busy": "2024-12-02T14:48:33.957164Z",
     "iopub.status.idle": "2024-12-02T14:48:33.964053Z",
     "shell.execute_reply": "2024-12-02T14:48:33.963261Z"
    },
    "papermill": {
     "duration": 0.016025,
     "end_time": "2024-12-02T14:48:33.965702",
     "exception": false,
     "start_time": "2024-12-02T14:48:33.949677",
     "status": "completed"
    },
    "tags": []
   },
   "outputs": [],
   "source": [
    "# Compile the model\n",
    "model.compile(optimizer = optimizer , loss = \"categorical_crossentropy\", metrics=[\"accuracy\"])"
   ]
  },
  {
   "cell_type": "code",
   "execution_count": 23,
   "id": "ac09a495",
   "metadata": {
    "execution": {
     "iopub.execute_input": "2024-12-02T14:48:33.980458Z",
     "iopub.status.busy": "2024-12-02T14:48:33.980180Z",
     "iopub.status.idle": "2024-12-02T14:48:33.983916Z",
     "shell.execute_reply": "2024-12-02T14:48:33.983200Z"
    },
    "papermill": {
     "duration": 0.012644,
     "end_time": "2024-12-02T14:48:33.985411",
     "exception": false,
     "start_time": "2024-12-02T14:48:33.972767",
     "status": "completed"
    },
    "tags": []
   },
   "outputs": [],
   "source": [
    "# Set a learning rate annealer\n",
    "learning_rate_reduction = ReduceLROnPlateau(monitor='val_acc', \n",
    "                                            patience=3, \n",
    "                                            verbose=1, \n",
    "                                            factor=0.5, \n",
    "                                            min_lr=0.00001)"
   ]
  },
  {
   "cell_type": "code",
   "execution_count": 24,
   "id": "227bb64b",
   "metadata": {
    "execution": {
     "iopub.execute_input": "2024-12-02T14:48:34.000177Z",
     "iopub.status.busy": "2024-12-02T14:48:33.999915Z",
     "iopub.status.idle": "2024-12-02T14:48:34.003242Z",
     "shell.execute_reply": "2024-12-02T14:48:34.002546Z"
    },
    "papermill": {
     "duration": 0.012631,
     "end_time": "2024-12-02T14:48:34.004984",
     "exception": false,
     "start_time": "2024-12-02T14:48:33.992353",
     "status": "completed"
    },
    "tags": []
   },
   "outputs": [],
   "source": [
    "epochs = 30\n",
    "batch_size = 86"
   ]
  },
  {
   "cell_type": "markdown",
   "id": "67537936",
   "metadata": {
    "papermill": {
     "duration": 0.006861,
     "end_time": "2024-12-02T14:48:34.018664",
     "exception": false,
     "start_time": "2024-12-02T14:48:34.011803",
     "status": "completed"
    },
    "tags": []
   },
   "source": [
    "# Data Augumentation"
   ]
  },
  {
   "cell_type": "code",
   "execution_count": 25,
   "id": "b7790c82",
   "metadata": {
    "execution": {
     "iopub.execute_input": "2024-12-02T14:48:34.033824Z",
     "iopub.status.busy": "2024-12-02T14:48:34.033579Z",
     "iopub.status.idle": "2024-12-02T14:48:34.125460Z",
     "shell.execute_reply": "2024-12-02T14:48:34.124473Z"
    },
    "papermill": {
     "duration": 0.101776,
     "end_time": "2024-12-02T14:48:34.127557",
     "exception": false,
     "start_time": "2024-12-02T14:48:34.025781",
     "status": "completed"
    },
    "tags": []
   },
   "outputs": [],
   "source": [
    "# With data augmentation to prevent overfitting (accuracy 0.99286)\n",
    "\n",
    "datagen = ImageDataGenerator(\n",
    "        featurewise_center=False,  # set input mean to 0 over the dataset\n",
    "        samplewise_center=False,  # set each sample mean to 0\n",
    "        featurewise_std_normalization=False,  # divide inputs by std of the dataset\n",
    "        samplewise_std_normalization=False,  # divide each input by its std\n",
    "        zca_whitening=False,  # apply ZCA whitening\n",
    "        rotation_range=10,  # randomly rotate images in the range (degrees, 0 to 180)\n",
    "        zoom_range = 0.1, # Randomly zoom image \n",
    "        width_shift_range=0.1,  # randomly shift images horizontally (fraction of total width)\n",
    "        height_shift_range=0.1,  # randomly shift images vertically (fraction of total height)\n",
    "        horizontal_flip=False,  # randomly flip images\n",
    "        vertical_flip=False)  # randomly flip images\n",
    "\n",
    "\n",
    "datagen.fit(X_train)"
   ]
  },
  {
   "cell_type": "markdown",
   "id": "29b1d12b",
   "metadata": {
    "papermill": {
     "duration": 0.007736,
     "end_time": "2024-12-02T14:48:34.143028",
     "exception": false,
     "start_time": "2024-12-02T14:48:34.135292",
     "status": "completed"
    },
    "tags": []
   },
   "source": [
    "# Model Training"
   ]
  },
  {
   "cell_type": "code",
   "execution_count": 26,
   "id": "a204c38b",
   "metadata": {
    "execution": {
     "iopub.execute_input": "2024-12-02T14:48:34.158797Z",
     "iopub.status.busy": "2024-12-02T14:48:34.158514Z",
     "iopub.status.idle": "2024-12-02T14:51:44.409596Z",
     "shell.execute_reply": "2024-12-02T14:51:44.408859Z"
    },
    "papermill": {
     "duration": 190.260845,
     "end_time": "2024-12-02T14:51:44.411227",
     "exception": false,
     "start_time": "2024-12-02T14:48:34.150382",
     "status": "completed"
    },
    "tags": []
   },
   "outputs": [
    {
     "name": "stdout",
     "output_type": "stream",
     "text": [
      "Epoch 1/30\n"
     ]
    },
    {
     "name": "stderr",
     "output_type": "stream",
     "text": [
      "/opt/conda/lib/python3.10/site-packages/keras/src/trainers/data_adapters/py_dataset_adapter.py:121: UserWarning: Your `PyDataset` class should call `super().__init__(**kwargs)` in its constructor. `**kwargs` can include `workers`, `use_multiprocessing`, `max_queue_size`. Do not pass these arguments to `fit()`, as they will be ignored.\n",
      "  self._warn_if_super_not_called()\n",
      "WARNING: All log messages before absl::InitializeLog() is called are written to STDERR\n",
      "I0000 00:00:1733150915.639267      71 service.cc:145] XLA service 0x7e9d5404a400 initialized for platform CUDA (this does not guarantee that XLA will be used). Devices:\n",
      "I0000 00:00:1733150915.639355      71 service.cc:153]   StreamExecutor device (0): Tesla T4, Compute Capability 7.5\n",
      "I0000 00:00:1733150915.639362      71 service.cc:153]   StreamExecutor device (1): Tesla T4, Compute Capability 7.5\n"
     ]
    },
    {
     "name": "stdout",
     "output_type": "stream",
     "text": [
      "\u001b[1m  8/439\u001b[0m \u001b[37m━━━━━━━━━━━━━━━━━━━━\u001b[0m \u001b[1m10s\u001b[0m 24ms/step - accuracy: 0.1056 - loss: 2.3095"
     ]
    },
    {
     "name": "stderr",
     "output_type": "stream",
     "text": [
      "I0000 00:00:1733150921.972183      71 device_compiler.h:188] Compiled cluster using XLA!  This line is logged at most once for the lifetime of the process.\n"
     ]
    },
    {
     "name": "stdout",
     "output_type": "stream",
     "text": [
      "\u001b[1m439/439\u001b[0m \u001b[32m━━━━━━━━━━━━━━━━━━━━\u001b[0m\u001b[37m\u001b[0m \u001b[1m25s\u001b[0m 39ms/step - accuracy: 0.7203 - loss: 0.8239 - val_accuracy: 0.9743 - val_loss: 0.0892 - learning_rate: 0.0010\n",
      "Epoch 2/30\n",
      "\u001b[1m  1/439\u001b[0m \u001b[37m━━━━━━━━━━━━━━━━━━━━\u001b[0m \u001b[1m3s\u001b[0m 7ms/step - accuracy: 0.9419 - loss: 0.2576"
     ]
    },
    {
     "name": "stderr",
     "output_type": "stream",
     "text": [
      "/opt/conda/lib/python3.10/site-packages/keras/src/callbacks/callback_list.py:96: UserWarning: Learning rate reduction is conditioned on metric `val_acc` which is not available. Available metrics are: accuracy,loss,val_accuracy,val_loss,learning_rate.\n",
      "  callback.on_epoch_end(epoch, logs)\n",
      "/opt/conda/lib/python3.10/contextlib.py:153: UserWarning: Your input ran out of data; interrupting training. Make sure that your dataset or generator can generate at least `steps_per_epoch * epochs` batches. You may need to use the `.repeat()` function when building your dataset.\n",
      "  self.gen.throw(typ, value, traceback)\n"
     ]
    },
    {
     "name": "stdout",
     "output_type": "stream",
     "text": [
      "\u001b[1m439/439\u001b[0m \u001b[32m━━━━━━━━━━━━━━━━━━━━\u001b[0m\u001b[37m\u001b[0m \u001b[1m0s\u001b[0m 504us/step - accuracy: 0.9419 - loss: 0.2576 - val_accuracy: 0.9748 - val_loss: 0.0679 - learning_rate: 0.0010\n",
      "Epoch 3/30\n",
      "\u001b[1m439/439\u001b[0m \u001b[32m━━━━━━━━━━━━━━━━━━━━\u001b[0m\u001b[37m\u001b[0m \u001b[1m12s\u001b[0m 26ms/step - accuracy: 0.9574 - loss: 0.1408 - val_accuracy: 0.9867 - val_loss: 0.0450 - learning_rate: 0.0010\n",
      "Epoch 4/30\n",
      "\u001b[1m439/439\u001b[0m \u001b[32m━━━━━━━━━━━━━━━━━━━━\u001b[0m\u001b[37m\u001b[0m \u001b[1m0s\u001b[0m 553us/step - accuracy: 0.9651 - loss: 0.1351 - val_accuracy: 0.9867 - val_loss: 0.0487 - learning_rate: 0.0010\n",
      "Epoch 5/30\n",
      "\u001b[1m439/439\u001b[0m \u001b[32m━━━━━━━━━━━━━━━━━━━━\u001b[0m\u001b[37m\u001b[0m \u001b[1m11s\u001b[0m 25ms/step - accuracy: 0.9695 - loss: 0.1002 - val_accuracy: 0.9917 - val_loss: 0.0295 - learning_rate: 0.0010\n",
      "Epoch 6/30\n",
      "\u001b[1m439/439\u001b[0m \u001b[32m━━━━━━━━━━━━━━━━━━━━\u001b[0m\u001b[37m\u001b[0m \u001b[1m0s\u001b[0m 561us/step - accuracy: 0.9884 - loss: 0.1448 - val_accuracy: 0.9902 - val_loss: 0.0298 - learning_rate: 0.0010\n",
      "Epoch 7/30\n",
      "\u001b[1m439/439\u001b[0m \u001b[32m━━━━━━━━━━━━━━━━━━━━\u001b[0m\u001b[37m\u001b[0m \u001b[1m12s\u001b[0m 26ms/step - accuracy: 0.9762 - loss: 0.0780 - val_accuracy: 0.9886 - val_loss: 0.0337 - learning_rate: 0.0010\n",
      "Epoch 8/30\n",
      "\u001b[1m439/439\u001b[0m \u001b[32m━━━━━━━━━━━━━━━━━━━━\u001b[0m\u001b[37m\u001b[0m \u001b[1m0s\u001b[0m 587us/step - accuracy: 0.9767 - loss: 0.0899 - val_accuracy: 0.9864 - val_loss: 0.0433 - learning_rate: 0.0010\n",
      "Epoch 9/30\n",
      "\u001b[1m439/439\u001b[0m \u001b[32m━━━━━━━━━━━━━━━━━━━━\u001b[0m\u001b[37m\u001b[0m \u001b[1m12s\u001b[0m 26ms/step - accuracy: 0.9777 - loss: 0.0762 - val_accuracy: 0.9907 - val_loss: 0.0450 - learning_rate: 0.0010\n",
      "Epoch 10/30\n",
      "\u001b[1m439/439\u001b[0m \u001b[32m━━━━━━━━━━━━━━━━━━━━\u001b[0m\u001b[37m\u001b[0m \u001b[1m0s\u001b[0m 569us/step - accuracy: 0.9884 - loss: 0.0166 - val_accuracy: 0.9919 - val_loss: 0.0389 - learning_rate: 0.0010\n",
      "Epoch 11/30\n",
      "\u001b[1m439/439\u001b[0m \u001b[32m━━━━━━━━━━━━━━━━━━━━\u001b[0m\u001b[37m\u001b[0m \u001b[1m12s\u001b[0m 26ms/step - accuracy: 0.9815 - loss: 0.0622 - val_accuracy: 0.9914 - val_loss: 0.0263 - learning_rate: 0.0010\n",
      "Epoch 12/30\n",
      "\u001b[1m439/439\u001b[0m \u001b[32m━━━━━━━━━━━━━━━━━━━━\u001b[0m\u001b[37m\u001b[0m \u001b[1m0s\u001b[0m 569us/step - accuracy: 0.9884 - loss: 0.0429 - val_accuracy: 0.9924 - val_loss: 0.0229 - learning_rate: 0.0010\n",
      "Epoch 13/30\n",
      "\u001b[1m439/439\u001b[0m \u001b[32m━━━━━━━━━━━━━━━━━━━━\u001b[0m\u001b[37m\u001b[0m \u001b[1m11s\u001b[0m 26ms/step - accuracy: 0.9836 - loss: 0.0581 - val_accuracy: 0.9907 - val_loss: 0.0318 - learning_rate: 0.0010\n",
      "Epoch 14/30\n",
      "\u001b[1m439/439\u001b[0m \u001b[32m━━━━━━━━━━━━━━━━━━━━\u001b[0m\u001b[37m\u001b[0m \u001b[1m0s\u001b[0m 569us/step - accuracy: 0.9767 - loss: 0.0404 - val_accuracy: 0.9910 - val_loss: 0.0297 - learning_rate: 0.0010\n",
      "Epoch 15/30\n",
      "\u001b[1m439/439\u001b[0m \u001b[32m━━━━━━━━━━━━━━━━━━━━\u001b[0m\u001b[37m\u001b[0m \u001b[1m12s\u001b[0m 26ms/step - accuracy: 0.9838 - loss: 0.0572 - val_accuracy: 0.9921 - val_loss: 0.0311 - learning_rate: 0.0010\n",
      "Epoch 16/30\n",
      "\u001b[1m439/439\u001b[0m \u001b[32m━━━━━━━━━━━━━━━━━━━━\u001b[0m\u001b[37m\u001b[0m \u001b[1m0s\u001b[0m 562us/step - accuracy: 0.9767 - loss: 0.0500 - val_accuracy: 0.9919 - val_loss: 0.0289 - learning_rate: 0.0010\n",
      "Epoch 17/30\n",
      "\u001b[1m439/439\u001b[0m \u001b[32m━━━━━━━━━━━━━━━━━━━━\u001b[0m\u001b[37m\u001b[0m \u001b[1m11s\u001b[0m 25ms/step - accuracy: 0.9839 - loss: 0.0548 - val_accuracy: 0.9940 - val_loss: 0.0232 - learning_rate: 0.0010\n",
      "Epoch 18/30\n",
      "\u001b[1m439/439\u001b[0m \u001b[32m━━━━━━━━━━━━━━━━━━━━\u001b[0m\u001b[37m\u001b[0m \u001b[1m0s\u001b[0m 550us/step - accuracy: 0.9767 - loss: 0.0338 - val_accuracy: 0.9919 - val_loss: 0.0255 - learning_rate: 0.0010\n",
      "Epoch 19/30\n",
      "\u001b[1m439/439\u001b[0m \u001b[32m━━━━━━━━━━━━━━━━━━━━\u001b[0m\u001b[37m\u001b[0m \u001b[1m12s\u001b[0m 26ms/step - accuracy: 0.9835 - loss: 0.0597 - val_accuracy: 0.9950 - val_loss: 0.0207 - learning_rate: 0.0010\n",
      "Epoch 20/30\n",
      "\u001b[1m439/439\u001b[0m \u001b[32m━━━━━━━━━━━━━━━━━━━━\u001b[0m\u001b[37m\u001b[0m \u001b[1m0s\u001b[0m 551us/step - accuracy: 0.9651 - loss: 0.1123 - val_accuracy: 0.9921 - val_loss: 0.0251 - learning_rate: 0.0010\n",
      "Epoch 21/30\n",
      "\u001b[1m439/439\u001b[0m \u001b[32m━━━━━━━━━━━━━━━━━━━━\u001b[0m\u001b[37m\u001b[0m \u001b[1m11s\u001b[0m 26ms/step - accuracy: 0.9838 - loss: 0.0552 - val_accuracy: 0.9924 - val_loss: 0.0270 - learning_rate: 0.0010\n",
      "Epoch 22/30\n",
      "\u001b[1m439/439\u001b[0m \u001b[32m━━━━━━━━━━━━━━━━━━━━\u001b[0m\u001b[37m\u001b[0m \u001b[1m0s\u001b[0m 555us/step - accuracy: 0.9535 - loss: 0.2104 - val_accuracy: 0.9936 - val_loss: 0.0272 - learning_rate: 0.0010\n",
      "Epoch 23/30\n",
      "\u001b[1m439/439\u001b[0m \u001b[32m━━━━━━━━━━━━━━━━━━━━\u001b[0m\u001b[37m\u001b[0m \u001b[1m11s\u001b[0m 26ms/step - accuracy: 0.9848 - loss: 0.0528 - val_accuracy: 0.9931 - val_loss: 0.0255 - learning_rate: 0.0010\n",
      "Epoch 24/30\n",
      "\u001b[1m439/439\u001b[0m \u001b[32m━━━━━━━━━━━━━━━━━━━━\u001b[0m\u001b[37m\u001b[0m \u001b[1m0s\u001b[0m 561us/step - accuracy: 0.9767 - loss: 0.0522 - val_accuracy: 0.9924 - val_loss: 0.0360 - learning_rate: 0.0010\n",
      "Epoch 25/30\n",
      "\u001b[1m439/439\u001b[0m \u001b[32m━━━━━━━━━━━━━━━━━━━━\u001b[0m\u001b[37m\u001b[0m \u001b[1m11s\u001b[0m 26ms/step - accuracy: 0.9866 - loss: 0.0479 - val_accuracy: 0.9945 - val_loss: 0.0209 - learning_rate: 0.0010\n",
      "Epoch 26/30\n",
      "\u001b[1m439/439\u001b[0m \u001b[32m━━━━━━━━━━━━━━━━━━━━\u001b[0m\u001b[37m\u001b[0m \u001b[1m0s\u001b[0m 593us/step - accuracy: 0.9767 - loss: 0.0553 - val_accuracy: 0.9936 - val_loss: 0.0212 - learning_rate: 0.0010\n",
      "Epoch 27/30\n",
      "\u001b[1m439/439\u001b[0m \u001b[32m━━━━━━━━━━━━━━━━━━━━\u001b[0m\u001b[37m\u001b[0m \u001b[1m11s\u001b[0m 26ms/step - accuracy: 0.9853 - loss: 0.0485 - val_accuracy: 0.9940 - val_loss: 0.0215 - learning_rate: 0.0010\n",
      "Epoch 28/30\n",
      "\u001b[1m439/439\u001b[0m \u001b[32m━━━━━━━━━━━━━━━━━━━━\u001b[0m\u001b[37m\u001b[0m \u001b[1m0s\u001b[0m 551us/step - accuracy: 0.9651 - loss: 0.1373 - val_accuracy: 0.9912 - val_loss: 0.0270 - learning_rate: 0.0010\n",
      "Epoch 29/30\n",
      "\u001b[1m439/439\u001b[0m \u001b[32m━━━━━━━━━━━━━━━━━━━━\u001b[0m\u001b[37m\u001b[0m \u001b[1m12s\u001b[0m 26ms/step - accuracy: 0.9847 - loss: 0.0531 - val_accuracy: 0.9943 - val_loss: 0.0211 - learning_rate: 0.0010\n",
      "Epoch 30/30\n",
      "\u001b[1m439/439\u001b[0m \u001b[32m━━━━━━━━━━━━━━━━━━━━\u001b[0m\u001b[37m\u001b[0m \u001b[1m0s\u001b[0m 581us/step - accuracy: 1.0000 - loss: 0.0141 - val_accuracy: 0.9940 - val_loss: 0.0231 - learning_rate: 0.0010\n"
     ]
    }
   ],
   "source": [
    "history = model.fit(datagen.flow(X_train, Y_train, batch_size=batch_size),\n",
    "                    epochs=epochs,\n",
    "                    validation_data=(X_val, Y_val),\n",
    "                    verbose=1,\n",
    "                    steps_per_epoch=X_train.shape[0] // batch_size,\n",
    "                    callbacks=[learning_rate_reduction])"
   ]
  },
  {
   "cell_type": "markdown",
   "id": "d19c0c87",
   "metadata": {
    "papermill": {
     "duration": 0.133646,
     "end_time": "2024-12-02T14:51:44.684382",
     "exception": false,
     "start_time": "2024-12-02T14:51:44.550736",
     "status": "completed"
    },
    "tags": []
   },
   "source": [
    "# Model Evaluation"
   ]
  },
  {
   "cell_type": "code",
   "execution_count": 27,
   "id": "2470cdfe",
   "metadata": {
    "execution": {
     "iopub.execute_input": "2024-12-02T14:51:44.952568Z",
     "iopub.status.busy": "2024-12-02T14:51:44.952117Z",
     "iopub.status.idle": "2024-12-02T14:51:45.396191Z",
     "shell.execute_reply": "2024-12-02T14:51:45.395311Z"
    },
    "papermill": {
     "duration": 0.580259,
     "end_time": "2024-12-02T14:51:45.397851",
     "exception": false,
     "start_time": "2024-12-02T14:51:44.817592",
     "status": "completed"
    },
    "tags": []
   },
   "outputs": [
    {
     "data": {
      "image/png": "[encoded data removed]",
      "text/plain": [
       "<Figure size 640x480 with 2 Axes>"
      ]
     },
     "metadata": {},
     "output_type": "display_data"
    }
   ],
   "source": [
    "# Plot the loss and accuracy curves for training and validation \n",
    "fig, ax = plt.subplots(2,1)\n",
    "ax[0].plot(history.history['loss'], color='b', label=\"Training loss\")\n",
    "ax[0].plot(history.history['val_loss'], color='r', label=\"validation loss\",axes =ax[0])\n",
    "legend = ax[0].legend(loc='best', shadow=True)\n",
    "\n",
    "ax[1].plot(history.history['accuracy'], color='b', label=\"Training accuracy\")\n",
    "ax[1].plot(history.history['val_accuracy'], color='r',label=\"Validation accuracy\")\n",
    "legend = ax[1].legend(loc='best', shadow=True)"
   ]
  },
  {
   "cell_type": "markdown",
   "id": "60fed2bc",
   "metadata": {
    "papermill": {
     "duration": 0.132939,
     "end_time": "2024-12-02T14:51:45.665018",
     "exception": false,
     "start_time": "2024-12-02T14:51:45.532079",
     "status": "completed"
    },
    "tags": []
   },
   "source": [
    "**Confusion Matrix**"
   ]
  },
  {
   "cell_type": "code",
   "execution_count": 28,
   "id": "36fa80c3",
   "metadata": {
    "execution": {
     "iopub.execute_input": "2024-12-02T14:51:45.934132Z",
     "iopub.status.busy": "2024-12-02T14:51:45.933833Z",
     "iopub.status.idle": "2024-12-02T14:51:47.540538Z",
     "shell.execute_reply": "2024-12-02T14:51:47.539633Z"
    },
    "papermill": {
     "duration": 1.743863,
     "end_time": "2024-12-02T14:51:47.542972",
     "exception": false,
     "start_time": "2024-12-02T14:51:45.799109",
     "status": "completed"
    },
    "tags": []
   },
   "outputs": [
    {
     "name": "stdout",
     "output_type": "stream",
     "text": [
      "\u001b[1m132/132\u001b[0m \u001b[32m━━━━━━━━━━━━━━━━━━━━\u001b[0m\u001b[37m\u001b[0m \u001b[1m1s\u001b[0m 3ms/step\n"
     ]
    },
    {
     "data": {
      "image/png": "[encoded data removed]",
      "text/plain": [
       "<Figure size 640x480 with 2 Axes>"
      ]
     },
     "metadata": {},
     "output_type": "display_data"
    }
   ],
   "source": [
    "# Look at confusion matrix \n",
    "\n",
    "def plot_confusion_matrix(cm, classes,\n",
    "                          normalize=False,\n",
    "                          title='Confusion matrix',\n",
    "                          cmap=plt.cm.Blues):\n",
    "    \"\"\"\n",
    "    This function prints and plots the confusion matrix.\n",
    "    Normalization can be applied by setting `normalize=True`.\n",
    "    \"\"\"\n",
    "    plt.imshow(cm, interpolation='nearest', cmap=cmap)\n",
    "    plt.title(title)\n",
    "    plt.colorbar()\n",
    "    tick_marks = np.arange(len(classes))\n",
    "    plt.xticks(tick_marks, classes, rotation=45)\n",
    "    plt.yticks(tick_marks, classes)\n",
    "\n",
    "    if normalize:\n",
    "        cm = cm.astype('float') / cm.sum(axis=1)[:, np.newaxis]\n",
    "\n",
    "    thresh = cm.max() / 2.\n",
    "    for i, j in itertools.product(range(cm.shape[0]), range(cm.shape[1])):\n",
    "        plt.text(j, i, cm[i, j],\n",
    "                 horizontalalignment=\"center\",\n",
    "                 color=\"white\" if cm[i, j] > thresh else \"black\")\n",
    "\n",
    "    plt.tight_layout()\n",
    "    plt.ylabel('True label')\n",
    "    plt.xlabel('Predicted label')\n",
    "\n",
    "# Predict the values from the validation dataset\n",
    "Y_pred = model.predict(X_val)\n",
    "# Convert predictions classes to one hot vectors \n",
    "Y_pred_classes = np.argmax(Y_pred,axis = 1) \n",
    "# Convert validation observations to one hot vectors\n",
    "Y_true = np.argmax(Y_val,axis = 1) \n",
    "# compute the confusion matrix\n",
    "confusion_mtx = confusion_matrix(Y_true, Y_pred_classes) \n",
    "# plot the confusion matrix\n",
    "plot_confusion_matrix(confusion_mtx, classes = range(10))"
   ]
  },
  {
   "cell_type": "code",
   "execution_count": null,
   "id": "999c176f",
   "metadata": {
    "papermill": {
     "duration": 0.170997,
     "end_time": "2024-12-02T14:51:47.858673",
     "exception": false,
     "start_time": "2024-12-02T14:51:47.687676",
     "status": "completed"
    },
    "tags": []
   },
   "outputs": [],
   "source": []
  }
 ],
 "metadata": {
  "kaggle": {
   "accelerator": "nvidiaTeslaT4",
   "dataSources": [
    {
     "databundleVersionId": 861823,
     "sourceId": 3004,
     "sourceType": "competition"
    }
   ],
   "dockerImageVersionId": 30787,
   "isGpuEnabled": true,
   "isInternetEnabled": true,
   "language": "python",
   "sourceType": "notebook"
  },
  "kernelspec": {
   "display_name": "Python 3",
   "language": "python",
   "name": "python3"
  },
  "language_info": {
   "codemirror_mode": {
    "name": "ipython",
    "version": 3
   },
   "file_extension": ".py",
   "mimetype": "text/x-python",
   "name": "python",
   "nbconvert_exporter": "python",
   "pygments_lexer": "ipython3",
   "version": "3.10.14"
  },
  "papermill": {
   "default_parameters": {},
   "duration": 218.782317,
   "end_time": "2024-12-02T14:51:50.784751",
   "environment_variables": {},
   "exception": null,
   "input_path": "__notebook__.ipynb",
   "output_path": "__notebook__.ipynb",
   "parameters": {},
   "start_time": "2024-12-02T14:48:12.002434",
   "version": "2.6.0"
  }
 },
 "nbformat": 4,
 "nbformat_minor": 5
}
